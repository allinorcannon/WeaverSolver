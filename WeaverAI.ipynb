{
  "nbformat": 4,
  "nbformat_minor": 0,
  "metadata": {
    "colab": {
      "provenance": [],
      "collapsed_sections": []
    },
    "kernelspec": {
      "name": "python3",
      "display_name": "Python 3"
    },
    "language_info": {
      "name": "python"
    }
  },
  "cells": [
    {
      "cell_type": "code",
      "source": [
        "import sys\n",
        "def distance(word1, word2):\n",
        "    dist = 0\n",
        "    for i in range(4):\n",
        "        if word1[i] == word2[i]:\n",
        "            dist += 1\n",
        "    return dist\n",
        "class Node:\n",
        "    def __init__(self, data):\n",
        "        self.children = []\n",
        "        self.child_set = set()\n",
        "        self.data = data\n",
        "        self.distance_to_goal = None\n",
        "    def get_children(self, lines):\n",
        "        for each in lines:\n",
        "            if(distance(self.data, each) == 3):\n",
        "                child = Node(each)\n",
        "                if child.data in self.children:\n",
        "                  self.child_set.add(child.data)\n",
        "                else:\n",
        "                  self.child_set.add(child.data)\n",
        "                  self.children.append(child)\n",
        "    def iterate_children(self, goal):\n",
        "        for i in range(len(self.children)):\n",
        "            self.children[i].distance_to_goal = distance(goal, self.children[i].data)\n",
        "        self.children.sort(key=lambda x: x.distance_to_goal, reverse=True)\n",
        "        self.children = self.children[: len(self.children) // 2]\n",
        "file = open('text.txt', 'r')\n",
        "lines = file.read().split(\" \")\n",
        "root = Node(\"item\")\n",
        "goal = \"list\"\n",
        "root.get_children(lines)"
      ],
      "metadata": {
        "id": "qyIYdfFPt_pK"
      },
      "execution_count": 2,
      "outputs": []
    },
    {
      "cell_type": "code",
      "source": [
        "for child in root.children:\n",
        "    #depth1\n",
        "    if child.data == goal:\n",
        "        print(root.data, ' -> ', child.data, sep=\"\")\n",
        "    else:\n",
        "        child.get_children(lines)\n",
        "        child.iterate_children(goal)\n",
        "        for child2 in child.children:\n",
        "            #depth2\n",
        "            if child2.data == goal:\n",
        "                print(root.data, ' -> ', child.data, ' -> ', child2.data, sep=\"\")\n",
        "            else:\n",
        "                child2.get_children(lines)\n",
        "                #child2.iterate_children(goal)\n",
        "                for child3 in child2.children:\n",
        "                    #depth3\n",
        "                    if child3.data == goal:\n",
        "                        print(root.data, ' -> ', child.data, ' -> ', child2.data, ' -> ', child3.data, sep=\"\")\n",
        "                    else:\n",
        "                        child3.get_children(lines)\n",
        "                        #child3.iterate_children(goal)\n",
        "                        for child4 in child3.children:\n",
        "                            #depth4\n",
        "                            if child4.data == goal:\n",
        "                                print(root.data, ' -> ', child.data, ' -> ', child2.data, ' -> ', child3.data, ' -> ', child4.data, sep=\"\")\n",
        "                            else:\n",
        "                                child4.get_children(lines)\n",
        "                                child4.iterate_children(goal)\n",
        "                                for child5 in child4.children:\n",
        "                                    #depth5\n",
        "                                    if child5.data == goal:\n",
        "                                        print(root.data, ' -> ', child.data, ' -> ', child2.data, ' -> ', child3.data, ' -> ', child4.data, ' -> ', child5.data, sep=\"\")\n",
        "                                    else:\n",
        "                                        child5.get_children(lines)\n",
        "                                        child5.iterate_children(goal)\n",
        "                                        for child6 in child5.children:\n",
        "                                            #depth6\n",
        "                                            if child6.data == goal:\n",
        "                                                print(root.data, ' -> ', child.data, ' -> ', child2.data, ' -> ', child3.data, ' -> ', child4.data, ' -> ', child5.data, ' -> ', child6.data, sep=\"\")\n",
        "                                            else:\n",
        "                                                child6.get_children(lines)\n",
        "                                                child6.iterate_children(goal)\n",
        "                                                for child7 in child6.children:\n",
        "                                                    #depth6\n",
        "                                                    if child7.data == goal:\n",
        "                                                        print(root.data, ' -> ', child.data, ' -> ', child2.data, ' -> ', child3.data, ' -> ', child4.data, ' -> ', child5.data, ' -> ', child6.data, ' -> ', child7.data, sep=\"\")"
      ],
      "metadata": {
        "colab": {
          "base_uri": "https://localhost:8080/"
        },
        "id": "gJ1h6wmz3HLV",
        "outputId": "2b4cdf2d-7d3f-4474-a5e3-d1443516bd79"
      },
      "execution_count": 3,
      "outputs": [
        {
          "output_type": "stream",
          "name": "stdout",
          "text": [
            "item -> stem -> seem -> sees -> lees -> less -> lest -> list\n"
          ]
        }
      ]
    }
  ]
}